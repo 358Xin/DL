{
  "nbformat": 4,
  "nbformat_minor": 0,
  "metadata": {
    "colab": {
      "name": "Covid19 Cases Prediction.ipynb",
      "provenance": [],
      "collapsed_sections": [],
      "authorship_tag": "ABX9TyO9PQvOhtR6uYXKyRC7BtNt",
      "include_colab_link": true
    },
    "kernelspec": {
      "name": "python3",
      "display_name": "Python 3"
    },
    "language_info": {
      "name": "python"
    }
  },
  "cells": [
    {
      "cell_type": "markdown",
      "metadata": {
        "id": "view-in-github",
        "colab_type": "text"
      },
      "source": [
        "<a href=\"https://colab.research.google.com/github/358Xin/DL/blob/main/Covid19_Cases_Prediction.ipynb\" target=\"_parent\"><img src=\"https://colab.research.google.com/assets/colab-badge.svg\" alt=\"Open In Colab\"/></a>"
      ]
    },
    {
      "cell_type": "code",
      "execution_count": 1,
      "metadata": {
        "colab": {
          "base_uri": "https://localhost:8080/"
        },
        "id": "EpbM6u8OZQEk",
        "outputId": "6ecec2e8-ee63-4aa0-bca6-a69c8556dd99"
      },
      "outputs": [
        {
          "output_type": "stream",
          "name": "stdout",
          "text": [
            "/usr/local/lib/python3.7/dist-packages/gdown/cli.py:131: FutureWarning: Option `--id` was deprecated in version 4.3.1 and will be removed in 5.0. You don't need to pass it anymore to use a file ID.\n",
            "  category=FutureWarning,\n",
            "Downloading...\n",
            "From: https://drive.google.com/uc?id=1kLSW_-cW2Huj7bh84YTdimGBOJaODiOS\n",
            "To: /content/covid.train.csv\n",
            "100% 2.49M/2.49M [00:00<00:00, 156MB/s]\n",
            "/usr/local/lib/python3.7/dist-packages/gdown/cli.py:131: FutureWarning: Option `--id` was deprecated in version 4.3.1 and will be removed in 5.0. You don't need to pass it anymore to use a file ID.\n",
            "  category=FutureWarning,\n",
            "Downloading...\n",
            "From: https://drive.google.com/uc?id=1iiI5qROrAhZn-o4FPqsE97bMzDEFvIdg\n",
            "To: /content/covid.test.csv\n",
            "100% 993k/993k [00:00<00:00, 138MB/s]\n"
          ]
        }
      ],
      "source": [
        "!gdown --id '1kLSW_-cW2Huj7bh84YTdimGBOJaODiOS' --output covid.train.csv\n",
        "!gdown --id '1iiI5qROrAhZn-o4FPqsE97bMzDEFvIdg' --output covid.test.csv"
      ]
    },
    {
      "cell_type": "code",
      "source": [
        "import math\n",
        "import os\n",
        "import csv\n",
        "from tqdm import tqdm\n",
        "import numpy as np\n",
        "import pandas as pd\n",
        "import torch\n",
        "import torch.nn as nn\n",
        "from torch.utils.data import Dataset, DataLoader, random_split\n",
        "from torch.utils.tensorboard import SummaryWriter"
      ],
      "metadata": {
        "id": "pDCDYq5dZoHK"
      },
      "execution_count": 2,
      "outputs": []
    },
    {
      "cell_type": "code",
      "source": [
        "from torch.utils import data\n",
        "\n",
        "def same_seed(seed):\n",
        "  torch.backends.cudnn.deterministric = True\n",
        "  torch.backends.cudnn.benchmark = False\n",
        "  np.random.seed(seed)\n",
        "  torch.manual_seed(seed)\n",
        "  if torch.cuda.is_available():\n",
        "    torch.cuda.manual_seed_all(seed)\n",
        "\n",
        "#划分数据集为训练集与验证集\n",
        "def train_valid_split(data_set, valid_ratio, seed):\n",
        "  valid_set_size = int(valid_ratio * len(data_set))\n",
        "  train_set_size = len(data_set) - valid_set_size\n",
        "  train_set, valid_set = random_split(data_set, [train_set_size, valid_set_size], generator=torch.Generator().manual_seed(seed))\n",
        "  return np.array(train_set), np.array(valid_set)\n",
        "\n",
        "#预测\n",
        "def predict(test_loader, model, device):\n",
        "  model.eval()\n",
        "  preds = []\n",
        "  for x in tqdm(test_loader):\n",
        "    x = x.to(device)\n",
        "    with torch.no_grad():\n",
        "      pred = model(x)\n",
        "      preds.append(pred.detach().cpu())\n",
        "  preds = torch.cat(preds, dim=0).numpy()\n",
        "  return preds"
      ],
      "metadata": {
        "id": "1EeFuJ-EaSBI"
      },
      "execution_count": 3,
      "outputs": []
    },
    {
      "cell_type": "code",
      "source": [
        "class Covid19Dataset(Dataset):\n",
        "  def __init__(self, x, y=None):\n",
        "    if y is None:\n",
        "      self.y = y\n",
        "    else:\n",
        "      self.y = torch.FloatTensor(y)\n",
        "    self.x = torch.FloatTensor(x)\n",
        "  \n",
        "  def __getitem__(self, index):\n",
        "    if self.y is None:\n",
        "      return self.x[index]\n",
        "    else:\n",
        "      return self.x[index], self.y[index]\n",
        "  def __len__(self):\n",
        "    return len(self.x)"
      ],
      "metadata": {
        "id": "ZsgVoc7hcxxS"
      },
      "execution_count": 4,
      "outputs": []
    },
    {
      "cell_type": "code",
      "source": [
        "from torch.nn.modules.linear import Linear\n",
        "class NeuralNet(nn.Module):\n",
        "  def __init__(self, input_dim):\n",
        "    super(NeuralNet, self).__init__()\n",
        "    self.net = nn.Sequential(\n",
        "        nn.Linear(input_dim, 16),\n",
        "        nn.ReLU(),\n",
        "        nn.Linear(16,8),\n",
        "        nn.ReLU(),\n",
        "        nn.Linear(8,1)\n",
        "    )\n",
        "  \n",
        "  def forward(self, x):\n",
        "    x = self.net(x)\n",
        "    x = x.suqeeze(1)   #(B,1) -> (B)\n",
        "    return x"
      ],
      "metadata": {
        "id": "9BoZCPucdr0z"
      },
      "execution_count": 3,
      "outputs": []
    },
    {
      "cell_type": "code",
      "source": [
        ""
      ],
      "metadata": {
        "id": "ml3L4q60OjtI"
      },
      "execution_count": null,
      "outputs": []
    }
  ]
}